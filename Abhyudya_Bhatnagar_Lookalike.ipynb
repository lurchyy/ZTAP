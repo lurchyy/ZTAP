{
 "cells": [
  {
   "cell_type": "code",
   "execution_count": 1,
   "metadata": {},
   "outputs": [],
   "source": [
    "import pandas as pd\n",
    "from sklearn.preprocessing import StandardScaler\n",
    "from sklearn.metrics.pairwise import cosine_similarity"
   ]
  },
  {
   "cell_type": "code",
   "execution_count": 2,
   "metadata": {},
   "outputs": [],
   "source": [
    "customers = pd.read_csv(\"Customers.csv\")\n",
    "transactions = pd.read_csv(\"Transactions.csv\")\n",
    "products = pd.read_csv(\"Products.csv\")\n"
   ]
  },
  {
   "cell_type": "code",
   "execution_count": 3,
   "metadata": {},
   "outputs": [],
   "source": [
    "merged = pd.merge(transactions, products[['ProductID', 'Category']], on='ProductID')\n"
   ]
  },
  {
   "cell_type": "code",
   "execution_count": 4,
   "metadata": {},
   "outputs": [],
   "source": [
    "customers['SignupDate'] = pd.to_datetime(customers['SignupDate'])\n",
    "customers['Tenure'] = 2024 - customers['SignupDate'].dt.year\n"
   ]
  },
  {
   "cell_type": "code",
   "execution_count": 5,
   "metadata": {},
   "outputs": [],
   "source": [
    "customers = pd.get_dummies(customers, columns=['Region'], prefix='Region')\n"
   ]
  },
  {
   "cell_type": "code",
   "execution_count": 6,
   "metadata": {},
   "outputs": [],
   "source": [
    "category_spending = pd.pivot_table(\n",
    "    merged,\n",
    "    index='CustomerID',\n",
    "    columns='Category',\n",
    "    values='TotalValue',\n",
    "    aggfunc='sum',\n",
    "    fill_value=0\n",
    ").add_prefix('SpentOn_')\n",
    "\n",
    "\n",
    "transaction_metrics = merged.groupby('CustomerID').agg(\n",
    "    TotalSpent=('TotalValue', 'sum'),\n",
    "    AvgTransactionValue=('TotalValue', 'mean'),\n",
    "    TransactionCount=('TransactionID', 'count')\n",
    ")\n"
   ]
  },
  {
   "cell_type": "code",
   "execution_count": 7,
   "metadata": {},
   "outputs": [],
   "source": [
    "final_data = (\n",
    "    customers.set_index('CustomerID')\n",
    "    .join(transaction_metrics)\n",
    "    .join(category_spending)\n",
    "    .fillna(0)\n",
    ")\n",
    "\n",
    "\n",
    "feature_columns = [\n",
    "    'Tenure',\n",
    "    'Region_Asia',\n",
    "    'Region_Europe',\n",
    "    'Region_North America',\n",
    "    'Region_South America',\n",
    "    'TotalSpent',\n",
    "    'AvgTransactionValue',\n",
    "    'TransactionCount',\n",
    "    'SpentOn_Books',\n",
    "    'SpentOn_Clothing',\n",
    "    'SpentOn_Electronics',\n",
    "    'SpentOn_Home Decor'\n",
    "]\n"
   ]
  },
  {
   "cell_type": "code",
   "execution_count": 8,
   "metadata": {},
   "outputs": [],
   "source": [
    "scaler = StandardScaler()\n",
    "scaled_features = scaler.fit_transform(final_data[feature_columns])\n"
   ]
  },
  {
   "cell_type": "code",
   "execution_count": 9,
   "metadata": {},
   "outputs": [],
   "source": [
    "similarity_matrix = cosine_similarity(scaled_features)\n"
   ]
  },
  {
   "cell_type": "code",
   "execution_count": 10,
   "metadata": {},
   "outputs": [],
   "source": [
    "\n",
    "lookalikes = {}\n",
    "target_customers = [f\"C00{i:02d}\" for i in range(1, 21)]\n",
    "\n",
    "for idx, cust_id in enumerate(target_customers):\n",
    "    if cust_id not in final_data.index:\n",
    "        continue\n",
    "\n",
    "    sim_scores = list(enumerate(similarity_matrix[idx]))\n",
    "    sorted_scores = sorted(sim_scores, key=lambda x: x[1], reverse=True)\n",
    "    top_matches = [\n",
    "        (final_data.index[i], round(score, 2)) \n",
    "        for i, score in sorted_scores \n",
    "        if final_data.index[i] != cust_id\n",
    "    ][:3]\n",
    "    \n",
    "    lookalikes[cust_id] = top_matches\n"
   ]
  },
  {
   "cell_type": "code",
   "execution_count": 11,
   "metadata": {},
   "outputs": [],
   "source": [
    "lookalike_df = pd.DataFrame({\n",
    "    'CustomerID': lookalikes.keys(),\n",
    "    'Lookalikes': [str(matches) for matches in lookalikes.values()]\n",
    "})"
   ]
  },
  {
   "cell_type": "code",
   "execution_count": 13,
   "metadata": {},
   "outputs": [],
   "source": [
    "lookalike_df.to_csv(\"Lookalike.csv\", index=False)"
   ]
  },
  {
   "cell_type": "code",
   "execution_count": null,
   "metadata": {},
   "outputs": [],
   "source": []
  }
 ],
 "metadata": {
  "kernelspec": {
   "display_name": "Python 3",
   "language": "python",
   "name": "python3"
  },
  "language_info": {
   "codemirror_mode": {
    "name": "ipython",
    "version": 3
   },
   "file_extension": ".py",
   "mimetype": "text/x-python",
   "name": "python",
   "nbconvert_exporter": "python",
   "pygments_lexer": "ipython3",
   "version": "3.10.0"
  }
 },
 "nbformat": 4,
 "nbformat_minor": 2
}
